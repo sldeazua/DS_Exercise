{
 "cells": [
  {
   "cell_type": "markdown",
   "id": "95ffa18b",
   "metadata": {},
   "source": [
    "# Data Science Tools and Ecosystem"
   ]
  },
  {
   "cell_type": "markdown",
   "id": "34a5d37d",
   "metadata": {},
   "source": [
    "In this Notebook, the viewer will find a summary of the **tools and ecosystem of Data Science**. "
   ]
  },
  {
   "cell_type": "markdown",
   "id": "654d1e03",
   "metadata": {},
   "source": [
    "**Objectives:**\n",
    "- Create a Jupyter Notebook\n",
    "- Insert code and markdown cells\n",
    "- Share your notebook through GitHub\n",
    "- List popular laguages for Data Science"
   ]
  },
  {
   "cell_type": "markdown",
   "id": "a7dd0a21",
   "metadata": {},
   "source": [
    "Some of the popular laguages that Data Scientists use are:\n",
    "1. Pyton\n",
    "2. R\n",
    "3. SQL\n",
    "4. Java\n",
    "5. Scala"
   ]
  },
  {
   "cell_type": "markdown",
   "id": "648ebbdf",
   "metadata": {},
   "source": [
    "The following are included among the libraries commonly used by Data Scientists:\n",
    "1. NumPy\n",
    "2. Pandas\n",
    "3. Matplotlib\n",
    "4. Scikit-learn\n",
    "5. TensorFlow"
   ]
  },
  {
   "cell_type": "markdown",
   "id": "921e33d3",
   "metadata": {},
   "source": [
    "| **Data Science Tools**|\n",
    "|:----------------------|\n",
    "|Jupyter Notebooks      |\n",
    "| RStudio               |\n",
    "|  PyCharm              |"
   ]
  },
  {
   "cell_type": "markdown",
   "id": "9a918aba",
   "metadata": {},
   "source": [
    "### Below are a few examples of evaluating arithmetic expressions in Python."
   ]
  },
  {
   "cell_type": "code",
   "execution_count": 1,
   "id": "58be41c5",
   "metadata": {},
   "outputs": [
    {
     "data": {
      "text/plain": [
       "17"
      ]
     },
     "execution_count": 1,
     "metadata": {},
     "output_type": "execute_result"
    }
   ],
   "source": [
    "# This is a simple arithmetic expression to multiply, then add integers.\n",
    "(3*4)+5"
   ]
  },
  {
   "cell_type": "code",
   "execution_count": 2,
   "id": "b79bab65",
   "metadata": {},
   "outputs": [
    {
     "data": {
      "text/plain": [
       "3.3333333333333335"
      ]
     },
     "execution_count": 2,
     "metadata": {},
     "output_type": "execute_result"
    }
   ],
   "source": [
    "# This will convert 200 mintes into hours by diving by 60.\n",
    "200/60"
   ]
  },
  {
   "cell_type": "markdown",
   "id": "1903b960",
   "metadata": {},
   "source": [
    "## Author\n",
    "Salvador López de Azúa"
   ]
  },
  {
   "cell_type": "code",
   "execution_count": null,
   "id": "dfa00a9e",
   "metadata": {},
   "outputs": [],
   "source": []
  }
 ],
 "metadata": {
  "kernelspec": {
   "display_name": "Python 3",
   "language": "python",
   "name": "python3"
  },
  "language_info": {
   "codemirror_mode": {
    "name": "ipython",
    "version": 3
   },
   "file_extension": ".py",
   "mimetype": "text/x-python",
   "name": "python",
   "nbconvert_exporter": "python",
   "pygments_lexer": "ipython3",
   "version": "3.10.9"
  }
 },
 "nbformat": 4,
 "nbformat_minor": 5
}
